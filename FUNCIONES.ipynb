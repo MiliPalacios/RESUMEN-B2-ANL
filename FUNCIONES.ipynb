{
 "cells": [
  {
   "cell_type": "code",
   "execution_count": 2,
   "id": "f762450d",
   "metadata": {},
   "outputs": [],
   "source": [
    "import numpy as np\n",
    "import matplotlib.pyplot as plt\n",
    "import pandas as pd"
   ]
  },
  {
   "cell_type": "code",
   "execution_count": null,
   "id": "c057b301",
   "metadata": {},
   "outputs": [],
   "source": [
    "def gauss_seidel(A,b,x0,tol):\n",
    "    x = x0.copy()\n",
    "    k = 0\n",
    "    diff = np.inf  #solo es para entrar al while\n",
    "    while  diff>tol and k<100:\n",
    "        x_ant = x.copy()\n",
    "        for i in range(len(A)):\n",
    "            suma1 = 0\n",
    "            suma2 = 0\n",
    "            for j in range(0,i-1):\n",
    "                suma1 += A[i,j]*x[j]\n",
    "            for j in range(i,len(A)):\n",
    "                suma2 += A[i,j]*x_ant[j]\n",
    "            \n",
    "            x[i] = (b[i]-suma1-suma2)/A[i,i]\n",
    "        diff = np.linalg.norm(x - x_ant)\n",
    "        k += 1\n",
    "    return x,k "
   ]
  },
  {
   "cell_type": "code",
   "execution_count": 3,
   "id": "7f70f84f",
   "metadata": {},
   "outputs": [],
   "source": [
    "def gradiente(A,x0,b, tol=1e-10):\n",
    "    x = x0.copy()\n",
    "    k = 0\n",
    "    r = b - A @ x0\n",
    "    su = [x]\n",
    "    res = [r]\n",
    "    while np.linalg.norm(x) > tol and k <= 500:\n",
    "        alpha = (r @ r) / (r @ A @ r)\n",
    "        x = x +  alpha * r\n",
    "        r = b - A @ x\n",
    "        su.append(x)\n",
    "        res.append(r) \n",
    "        k = k + 1 \n",
    "    #DIBUJO\n",
    "    nres = [np.linalg.norm(resv) for resv in res]\n",
    "    iteraciones = np.arange(len(nres))\n",
    "    plt.scatter(iteraciones, nres, color='b', alpha=0.7)\n",
    "    plt.title('Evolución de los residuos')\n",
    "    plt.xlabel('Iteración')\n",
    "    plt.ylabel('Norma del residuo')\n",
    "    plt.grid(True, linestyle='--', alpha=0.3,color = 'y')\n",
    "    plt.show()\n",
    "    return su, res"
   ]
  },
  {
   "cell_type": "code",
   "execution_count": 13,
   "id": "3411b4b4",
   "metadata": {},
   "outputs": [],
   "source": [
    "def gradiente_conjugado( A , b , x0 , tol =  1e-8 ):\n",
    "    x = x0.copy()\n",
    "    r = A @ x - b\n",
    "    p = -r\n",
    "    k = 0\n",
    "    history = {\n",
    "        'iteration' : [],\n",
    "        'norm_x' : [],\n",
    "        'norm-r' : []\n",
    "    }\n",
    "    while np.linalg.norm(r) > tol:\n",
    "        norm_x = np.linalg.norm(x)\n",
    "        norm_r =np.linalg.norm(r)\n",
    "        history['iteration'].append(k)\n",
    "        history['norm_x'].append(norm_x)\n",
    "        history['norm-r'].append(norm_r)\n",
    "        Ap = A @ p\n",
    "        alpha= r @ r /(p @ Ap)\n",
    "        x = x + alpha*p\n",
    "        r_new = r + alpha*Ap\n",
    "        beta = r_new @ r_new / (r @ r)\n",
    "        p = -r_new + beta * p\n",
    "        r = r_new\n",
    "        k += 1\n",
    "        df = pd.DataFrame(history)\n",
    "    plt.scatter(history['iteration'],history['norm-r'], color='b', alpha=0.7)\n",
    "    plt.title('Evolución de los residuos')\n",
    "    plt.xlabel('Iteración')\n",
    "    plt.ylabel('Norma del residuo')\n",
    "    plt.grid(True, linestyle='--', alpha=0.3,color = 'y')\n",
    "    plt.show()\n",
    "    return x,k,df"
   ]
  },
  {
   "cell_type": "code",
   "execution_count": null,
   "id": "cf3d5890",
   "metadata": {},
   "outputs": [],
   "source": [
    "def potencia(A,q, tope = 100):\n",
    "    for k in range(tope):            # PROBLEMA QUE SEA FINITO\n",
    "        z = A @ q     #Para aproximar el izquierdo: q.T @ A\n",
    "        q = z / np.linalg.norm(z)   # NORMALIZACION DE z\n",
    "        nu = q.T @ A @ q\n",
    "    return nu,q"
   ]
  },
  {
   "cell_type": "code",
   "execution_count": 18,
   "id": "88cbbd8d",
   "metadata": {},
   "outputs": [],
   "source": [
    "#Nos da el valor propio minimo (mas pequeño)\n",
    "def potencia_inversa(A,z0, mu, nmax = 100, tol = 1e-8):\n",
    "    n = np.max(A.shape)\n",
    "    M = A-mu*np.eye(n,n)\n",
    "    q = z0/np.linalg.norm(z0)\n",
    "    q2 = q.copy()\n",
    "    err = []\n",
    "    sigma = []\n",
    "    res = tol + 1\n",
    "    niter=0\n",
    "    while res >= tol and niter<=nmax:\n",
    "        ninter += 1\n",
    "        z = np.linalg.solve(M, q)\n",
    "        q = z / np.linalg.norm(z)\n",
    "        z_Aq = A @ q\n",
    "        lam = q @ z_Aq\n",
    "        numer = np.linalg.norm(z_Aq - lam * q)\n",
    "        costheta = abs(q2 @ q)   #escalar q_{k-1} y q_k\n",
    "        res = numer / costheta\n",
    "        sigma.append(lam)\n",
    "        err.append(res)\n",
    "        q2 = q.copy()\n",
    "    return \n",
    "## APROXIMAR K(A)=potencia/potencia inversa (mu = 0)"
   ]
  }
 ],
 "metadata": {
  "kernelspec": {
   "display_name": "venv (3.12.4)",
   "language": "python",
   "name": "python3"
  },
  "language_info": {
   "codemirror_mode": {
    "name": "ipython",
    "version": 3
   },
   "file_extension": ".py",
   "mimetype": "text/x-python",
   "name": "python",
   "nbconvert_exporter": "python",
   "pygments_lexer": "ipython3",
   "version": "3.12.4"
  }
 },
 "nbformat": 4,
 "nbformat_minor": 5
}
