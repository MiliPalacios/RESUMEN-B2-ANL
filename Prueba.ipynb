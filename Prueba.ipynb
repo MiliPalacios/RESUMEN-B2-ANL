{
 "cells": [
  {
   "cell_type": "markdown",
   "id": "04f92925",
   "metadata": {},
   "source": [
    "Hola :D "
   ]
  },
  {
   "cell_type": "code",
   "execution_count": 1,
   "id": "f762450d",
   "metadata": {},
   "outputs": [],
   "source": [
    "import numpy as numpy"
   ]
  }
 ],
 "metadata": {
  "kernelspec": {
   "display_name": "venv (3.12.4)",
   "language": "python",
   "name": "python3"
  },
  "language_info": {
   "codemirror_mode": {
    "name": "ipython",
    "version": 3
   },
   "file_extension": ".py",
   "mimetype": "text/x-python",
   "name": "python",
   "nbconvert_exporter": "python",
   "pygments_lexer": "ipython3",
   "version": "3.12.4"
  }
 },
 "nbformat": 4,
 "nbformat_minor": 5
}
